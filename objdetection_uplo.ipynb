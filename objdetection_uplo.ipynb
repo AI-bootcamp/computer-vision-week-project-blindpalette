{
  "cells": [
    {
      "cell_type": "code",
      "execution_count": 1,
      "metadata": {
        "_cell_guid": "b1076dfc-b9ad-4769-8c92-a6c4dae69d19",
        "_uuid": "8f2839f25d086af736a60e9eeb907d3b93b6e0e5",
        "execution": {
          "iopub.execute_input": "2025-04-30T13:05:30.084541Z",
          "iopub.status.busy": "2025-04-30T13:05:30.084273Z",
          "iopub.status.idle": "2025-04-30T13:17:12.960958Z",
          "shell.execute_reply": "2025-04-30T13:17:12.959868Z",
          "shell.execute_reply.started": "2025-04-30T13:05:30.084514Z"
        },
        "trusted": true,
        "colab": {
          "base_uri": "https://localhost:8080/"
        },
        "id": "AAJkKxkKF0gl",
        "outputId": "f984d658-3a23-4641-d215-ce1a0d581911"
      },
      "outputs": [
        {
          "output_type": "stream",
          "name": "stdout",
          "text": [
            "Downloading from https://www.kaggle.com/api/v1/datasets/download/kritanjalijain/fashion-anchor-cloth-pairs?dataset_version_number=5...\n"
          ]
        },
        {
          "output_type": "stream",
          "name": "stderr",
          "text": [
            "100%|██████████| 14.3G/14.3G [01:57<00:00, 131MB/s]"
          ]
        },
        {
          "output_type": "stream",
          "name": "stdout",
          "text": [
            "Extracting files...\n"
          ]
        },
        {
          "output_type": "stream",
          "name": "stderr",
          "text": [
            "\n"
          ]
        },
        {
          "output_type": "stream",
          "name": "stdout",
          "text": [
            "Path to dataset files: /root/.cache/kagglehub/datasets/kritanjalijain/fashion-anchor-cloth-pairs/versions/5\n"
          ]
        }
      ],
      "source": [
        "import kagglehub\n",
        "\n",
        "# Download latest version\n",
        "path = kagglehub.dataset_download(\"kritanjalijain/fashion-anchor-cloth-pairs\")\n",
        "\n",
        "print(\"Path to dataset files:\", path)"
      ]
    },
    {
      "cell_type": "code",
      "execution_count": 2,
      "metadata": {
        "execution": {
          "iopub.execute_input": "2025-04-30T14:14:23.953389Z",
          "iopub.status.busy": "2025-04-30T14:14:23.953104Z",
          "iopub.status.idle": "2025-04-30T14:14:24.121362Z",
          "shell.execute_reply": "2025-04-30T14:14:24.120253Z",
          "shell.execute_reply.started": "2025-04-30T14:14:23.953370Z"
        },
        "trusted": true,
        "colab": {
          "base_uri": "https://localhost:8080/"
        },
        "id": "31S_PUzTF0gm",
        "outputId": "94062e3a-5831-4e15-bd41-305ee4025067"
      },
      "outputs": [
        {
          "output_type": "stream",
          "name": "stdout",
          "text": [
            "find: ‘/kaggle/input/fashion-anchor-cloth-pairs’: No such file or directory\n"
          ]
        }
      ],
      "source": [
        "# in a Kaggle notebook code cell\n",
        "!find /kaggle/input/fashion-anchor-cloth-pairs -maxdepth 3 -type d | sed 's#/kaggle/input/fashion-anchor-cloth-pairs/##'\n"
      ]
    },
    {
      "cell_type": "code",
      "execution_count": 3,
      "metadata": {
        "execution": {
          "iopub.execute_input": "2025-04-30T13:27:47.969533Z",
          "iopub.status.busy": "2025-04-30T13:27:47.968786Z",
          "iopub.status.idle": "2025-04-30T13:30:24.673956Z",
          "shell.execute_reply": "2025-04-30T13:30:24.672990Z",
          "shell.execute_reply.started": "2025-04-30T13:27:47.969504Z"
        },
        "trusted": true,
        "colab": {
          "base_uri": "https://localhost:8080/"
        },
        "id": "v1FR153EF0gm",
        "outputId": "4602f0e1-a311-4d19-aaf6-62a2f7beeb1c"
      },
      "outputs": [
        {
          "output_type": "stream",
          "name": "stdout",
          "text": [
            "find: ‘/kaggle/input/fashion-anchor-cloth-pairs’: No such file or directory\n"
          ]
        }
      ],
      "source": [
        "# list all directories under the dataset\n",
        "!find /kaggle/input/fashion-anchor-cloth-pairs -type d | sed 's|/kaggle/input/fashion-anchor-cloth-pairs/||'\n"
      ]
    },
    {
      "cell_type": "code",
      "execution_count": 4,
      "metadata": {
        "execution": {
          "iopub.execute_input": "2025-04-30T14:14:30.701016Z",
          "iopub.status.busy": "2025-04-30T14:14:30.700636Z",
          "iopub.status.idle": "2025-04-30T14:14:30.960210Z",
          "shell.execute_reply": "2025-04-30T14:14:30.958918Z",
          "shell.execute_reply.started": "2025-04-30T14:14:30.700987Z"
        },
        "trusted": true,
        "colab": {
          "base_uri": "https://localhost:8080/"
        },
        "id": "Vct3DuJXF0gn",
        "outputId": "d83b3f85-a995-4539-fdbb-23d47e320c66"
      },
      "outputs": [
        {
          "output_type": "stream",
          "name": "stdout",
          "text": [
            "ls: cannot access '/kaggle/input/fashion-anchor-cloth-pairs/pants_dataset/pants_dataset/men_pants': No such file or directory\n",
            "ls: cannot access '/kaggle/input/fashion-anchor-cloth-pairs/upperwear_dataset/upperwear_dataset/men_top': No such file or directory\n"
          ]
        }
      ],
      "source": [
        "# should list \"cloths\" and \"human\"\n",
        "!ls /kaggle/input/fashion-anchor-cloth-pairs/pants_dataset/pants_dataset/men_pants\n",
        "\n",
        "# should list \"cloths\" and \"human\"\n",
        "!ls /kaggle/input/fashion-anchor-cloth-pairs/upperwear_dataset/upperwear_dataset/men_top\n"
      ]
    },
    {
      "cell_type": "code",
      "execution_count": 6,
      "metadata": {
        "execution": {
          "iopub.execute_input": "2025-04-30T14:14:35.973702Z",
          "iopub.status.busy": "2025-04-30T14:14:35.973326Z",
          "iopub.status.idle": "2025-04-30T14:14:36.035857Z",
          "shell.execute_reply": "2025-04-30T14:14:36.035018Z",
          "shell.execute_reply.started": "2025-04-30T14:14:35.973651Z"
        },
        "trusted": true,
        "colab": {
          "base_uri": "https://localhost:8080/"
        },
        "id": "203HZHsrF0gn",
        "outputId": "f0b80ddf-eeda-4ef5-db49-9fdf991108fc"
      },
      "outputs": [
        {
          "output_type": "stream",
          "name": "stdout",
          "text": [
            "Found 8247 men-pants images in\n",
            "  /root/.cache/kagglehub/datasets/kritanjalijain/fashion-anchor-cloth-pairs/versions/5/pants_dataset/pants_dataset/men_pants/cloths\n",
            "Found 10199 men-top   images in\n",
            "  /root/.cache/kagglehub/datasets/kritanjalijain/fashion-anchor-cloth-pairs/versions/5/upperwear_dataset/upperwear_dataset/men_top/cloths\n",
            "Sample pants: ['/root/.cache/kagglehub/datasets/kritanjalijain/fashion-anchor-cloth-pairs/versions/5/pants_dataset/pants_dataset/men_pants/cloths/menpant1864.png', '/root/.cache/kagglehub/datasets/kritanjalijain/fashion-anchor-cloth-pairs/versions/5/pants_dataset/pants_dataset/men_pants/cloths/menpant6851.png', '/root/.cache/kagglehub/datasets/kritanjalijain/fashion-anchor-cloth-pairs/versions/5/pants_dataset/pants_dataset/men_pants/cloths/menpant6153.png']\n",
            "Sample tops:  ['/root/.cache/kagglehub/datasets/kritanjalijain/fashion-anchor-cloth-pairs/versions/5/upperwear_dataset/upperwear_dataset/men_top/cloths/m8943.png', '/root/.cache/kagglehub/datasets/kritanjalijain/fashion-anchor-cloth-pairs/versions/5/upperwear_dataset/upperwear_dataset/men_top/cloths/m7146.png', '/root/.cache/kagglehub/datasets/kritanjalijain/fashion-anchor-cloth-pairs/versions/5/upperwear_dataset/upperwear_dataset/men_top/cloths/m10019.png']\n"
          ]
        }
      ],
      "source": [
        "import os, glob\n",
        "\n",
        "BASE = \"/root/.cache/kagglehub/datasets/kritanjalijain/fashion-anchor-cloth-pairs/versions/5\"\n",
        "\n",
        "pants_cloths = os.path.join(\n",
        "    BASE, \"pants_dataset\", \"pants_dataset\", \"men_pants\", \"cloths\"\n",
        ")\n",
        "top_cloths = os.path.join(\n",
        "    BASE, \"upperwear_dataset\", \"upperwear_dataset\", \"men_top\", \"cloths\"\n",
        ")\n",
        "\n",
        "# sanity check\n",
        "assert os.path.isdir(pants_cloths), f\"Missing: {pants_cloths}\"\n",
        "assert os.path.isdir(top_cloths),   f\"Missing: {top_cloths}\"\n",
        "\n",
        "# grab images\n",
        "pants_imgs = glob.glob(os.path.join(pants_cloths, \"*.png\")) + \\\n",
        "             glob.glob(os.path.join(pants_cloths, \"*.jpg\"))\n",
        "tops_imgs  = glob.glob(os.path.join(top_cloths,  \"*.png\")) + \\\n",
        "             glob.glob(os.path.join(top_cloths,  \"*.jpg\"))\n",
        "\n",
        "print(f\"Found {len(pants_imgs)} men-pants images in\\n  {pants_cloths}\")\n",
        "print(f\"Found {len(tops_imgs)} men-top   images in\\n  {top_cloths}\")\n",
        "\n",
        "# peek\n",
        "print(\"Sample pants:\", pants_imgs[:3])\n",
        "print(\"Sample tops: \", tops_imgs[:3])\n"
      ]
    },
    {
      "cell_type": "code",
      "execution_count": 7,
      "metadata": {
        "execution": {
          "iopub.execute_input": "2025-04-30T14:16:26.819832Z",
          "iopub.status.busy": "2025-04-30T14:16:26.819462Z",
          "iopub.status.idle": "2025-04-30T14:16:28.460946Z",
          "shell.execute_reply": "2025-04-30T14:16:28.460156Z",
          "shell.execute_reply.started": "2025-04-30T14:16:26.819808Z"
        },
        "trusted": true,
        "colab": {
          "base_uri": "https://localhost:8080/"
        },
        "id": "dkonsZViF0gn",
        "outputId": "55887ea1-1dba-4054-afd2-6f781d162386"
      },
      "outputs": [
        {
          "output_type": "stream",
          "name": "stdout",
          "text": [
            "→ Training on 14756 images, validating on 3690\n"
          ]
        }
      ],
      "source": [
        "# 0) Imports\n",
        "import glob, os\n",
        "from sklearn.model_selection import train_test_split\n",
        "from PIL import Image\n",
        "\n",
        "import torch, torch.nn as nn, torch.optim as optim\n",
        "from torch.utils.data import Dataset, DataLoader\n",
        "from torchvision import models\n",
        "from torchvision.models import EfficientNet_B0_Weights\n",
        "\n",
        "# 1) Your image lists (you already have these)\n",
        "# pants_imgs, tops_imgs\n",
        "\n",
        "# 2) Build combined paths & labels\n",
        "all_paths  = pants_imgs + tops_imgs\n",
        "all_labels = [0]*len(pants_imgs) + [1]*len(tops_imgs)   # 0 = pants, 1 = tops\n",
        "\n",
        "# 3) Split into train / val\n",
        "train_paths, val_paths, train_labels, val_labels = train_test_split(\n",
        "    all_paths, all_labels,\n",
        "    test_size=0.2,\n",
        "    stratify=all_labels,\n",
        "    random_state=42\n",
        ")\n",
        "\n",
        "print(f\"→ Training on {len(train_paths)} images, validating on {len(val_paths)}\")\n",
        "\n"
      ]
    },
    {
      "cell_type": "code",
      "execution_count": 8,
      "metadata": {
        "execution": {
          "iopub.execute_input": "2025-04-30T14:16:46.885086Z",
          "iopub.status.busy": "2025-04-30T14:16:46.884315Z",
          "iopub.status.idle": "2025-04-30T14:16:46.903748Z",
          "shell.execute_reply": "2025-04-30T14:16:46.902822Z",
          "shell.execute_reply.started": "2025-04-30T14:16:46.885055Z"
        },
        "trusted": true,
        "id": "tqq4WxA7F0gn"
      },
      "outputs": [],
      "source": [
        "\n",
        "# 3) Split into train / val\n",
        "train_paths, val_paths, train_labels, val_labels = train_test_split(\n",
        "    all_paths, all_labels,\n",
        "    test_size=0.2,\n",
        "    stratify=all_labels,\n",
        "    random_state=42\n",
        ")"
      ]
    },
    {
      "cell_type": "code",
      "execution_count": 9,
      "metadata": {
        "execution": {
          "iopub.execute_input": "2025-04-30T14:16:49.660619Z",
          "iopub.status.busy": "2025-04-30T14:16:49.660291Z",
          "iopub.status.idle": "2025-04-30T14:16:49.668598Z",
          "shell.execute_reply": "2025-04-30T14:16:49.667302Z",
          "shell.execute_reply.started": "2025-04-30T14:16:49.660591Z"
        },
        "trusted": true,
        "id": "aLgxugsnF0gn"
      },
      "outputs": [],
      "source": [
        "# 4) Dataset class\n",
        "class UpperLowerDataset(Dataset):\n",
        "    def __init__(self, paths, labels, transform=None):\n",
        "        self.paths, self.labels, self.transform = paths, labels, transform\n",
        "    def __len__(self):\n",
        "        return len(self.paths)\n",
        "    def __getitem__(self, idx):\n",
        "        img = Image.open(self.paths[idx]).convert(\"RGB\")\n",
        "        if self.transform:\n",
        "            img = self.transform(img)\n",
        "        return img, self.labels[idx]"
      ]
    },
    {
      "cell_type": "code",
      "execution_count": 10,
      "metadata": {
        "execution": {
          "iopub.execute_input": "2025-04-30T14:16:53.517598Z",
          "iopub.status.busy": "2025-04-30T14:16:53.516982Z",
          "iopub.status.idle": "2025-04-30T14:16:53.521841Z",
          "shell.execute_reply": "2025-04-30T14:16:53.520930Z",
          "shell.execute_reply.started": "2025-04-30T14:16:53.517574Z"
        },
        "trusted": true,
        "id": "-wGXbDJpF0gn"
      },
      "outputs": [],
      "source": [
        "# 5) EfficientNet-B0 and its preprocessing\n",
        "weights = EfficientNet_B0_Weights.DEFAULT\n",
        "tf      = weights.transforms()   # includes resizing, normalization"
      ]
    },
    {
      "cell_type": "code",
      "execution_count": 11,
      "metadata": {
        "execution": {
          "iopub.execute_input": "2025-04-30T14:16:56.228756Z",
          "iopub.status.busy": "2025-04-30T14:16:56.228415Z",
          "iopub.status.idle": "2025-04-30T14:16:56.234322Z",
          "shell.execute_reply": "2025-04-30T14:16:56.233431Z",
          "shell.execute_reply.started": "2025-04-30T14:16:56.228734Z"
        },
        "trusted": true,
        "id": "htQg74qgF0go"
      },
      "outputs": [],
      "source": [
        "# 6) Datasets & DataLoaders\n",
        "train_ds = UpperLowerDataset(train_paths, train_labels, transform=tf)\n",
        "val_ds   = UpperLowerDataset(val_paths,   val_labels,   transform=tf)\n",
        "\n",
        "train_loader = DataLoader(train_ds, batch_size=32, shuffle=True,  num_workers=2)\n",
        "val_loader   = DataLoader(val_ds,   batch_size=32, shuffle=False, num_workers=2)\n"
      ]
    },
    {
      "cell_type": "code",
      "execution_count": 12,
      "metadata": {
        "execution": {
          "iopub.execute_input": "2025-04-30T14:19:15.420814Z",
          "iopub.status.busy": "2025-04-30T14:19:15.420057Z",
          "iopub.status.idle": "2025-04-30T14:19:15.582717Z",
          "shell.execute_reply": "2025-04-30T14:19:15.581738Z",
          "shell.execute_reply.started": "2025-04-30T14:19:15.420772Z"
        },
        "trusted": true,
        "id": "_2pIz8dcF0go"
      },
      "outputs": [],
      "source": [
        "# 7) Model, loss, optimizer  – offline / no pre-trained weights\n",
        "device = torch.device(\"cuda\" if torch.cuda.is_available() else \"cpu\")\n",
        "\n",
        "# load EfficientNet-B0 from scratch\n",
        "model = models.efficientnet_b0(weights=None).to(device)\n",
        "\n",
        "# swap out the head for 2 classes\n",
        "in_feats = model.classifier[1].in_features\n",
        "model.classifier[1] = nn.Linear(in_feats, 2).to(device)\n",
        "\n",
        "criterion = nn.CrossEntropyLoss()\n",
        "optimizer = optim.Adam(model.parameters(), lr=1e-4)\n"
      ]
    },
    {
      "cell_type": "code",
      "execution_count": 13,
      "metadata": {
        "execution": {
          "iopub.execute_input": "2025-04-30T14:19:19.175003Z",
          "iopub.status.busy": "2025-04-30T14:19:19.174619Z",
          "iopub.status.idle": "2025-04-30T14:19:20.687593Z",
          "shell.execute_reply": "2025-04-30T14:19:20.686614Z",
          "shell.execute_reply.started": "2025-04-30T14:19:19.174980Z"
        },
        "trusted": true,
        "colab": {
          "base_uri": "https://localhost:8080/"
        },
        "id": "M1k7SH7YF0go",
        "outputId": "f117b5e4-6ea1-4ce7-caac-fff0cce35363"
      },
      "outputs": [
        {
          "output_type": "stream",
          "name": "stdout",
          "text": [
            "Batch shapes: torch.Size([32, 3, 224, 224]) torch.Size([32])\n"
          ]
        }
      ],
      "source": [
        "# 8) Quick sanity check: one batch\n",
        "imgs, labs = next(iter(train_loader))\n",
        "print(\"Batch shapes:\", imgs.shape, labs.shape)  # e.g. [32,3,224,224], [32]\n"
      ]
    },
    {
      "cell_type": "code",
      "execution_count": 14,
      "metadata": {
        "execution": {
          "iopub.execute_input": "2025-04-30T14:22:41.484010Z",
          "iopub.status.busy": "2025-04-30T14:22:41.483609Z"
        },
        "trusted": true,
        "colab": {
          "base_uri": "https://localhost:8080/"
        },
        "id": "nqdJoN5TF0go",
        "outputId": "070ac164-a6a9-46a6-bb6b-a22ad0f3ab24"
      },
      "outputs": [
        {
          "output_type": "stream",
          "name": "stdout",
          "text": [
            "[Epoch 1]  train_loss=0.135, train_acc=0.946 | val_loss=0.022,   val_acc=0.992\n",
            "[Epoch 2]  train_loss=0.027, train_acc=0.991 | val_loss=0.012,   val_acc=0.995\n",
            "[Epoch 3]  train_loss=0.015, train_acc=0.996 | val_loss=0.008,   val_acc=0.997\n",
            "[Epoch 4]  train_loss=0.015, train_acc=0.995 | val_loss=0.012,   val_acc=0.995\n",
            "[Epoch 5]  train_loss=0.007, train_acc=0.998 | val_loss=0.010,   val_acc=0.996\n"
          ]
        }
      ],
      "source": [
        "def run_epoch(loader, train=True):\n",
        "    epoch_loss, correct, total = 0.0, 0, 0\n",
        "    if train:\n",
        "        model.train()\n",
        "    else:\n",
        "        model.eval()\n",
        "\n",
        "    for imgs, labels in loader:\n",
        "        imgs, labels = imgs.to(device), labels.to(device)\n",
        "        with torch.set_grad_enabled(train):\n",
        "            outputs = model(imgs)\n",
        "            loss    = criterion(outputs, labels)\n",
        "            if train:\n",
        "                optimizer.zero_grad()\n",
        "                loss.backward()\n",
        "                optimizer.step()\n",
        "\n",
        "        epoch_loss += loss.item() * imgs.size(0)\n",
        "        preds = outputs.argmax(dim=1)\n",
        "        correct += (preds == labels).sum().item()\n",
        "        total   += imgs.size(0)\n",
        "\n",
        "    avg_loss  = epoch_loss / total\n",
        "    accuracy  = correct / total\n",
        "    return avg_loss, accuracy\n",
        "\n",
        "# Now run your training loop\n",
        "num_epochs = 5\n",
        "for epoch in range(1, num_epochs+1):\n",
        "    tr_loss, tr_acc = run_epoch(train_loader, train=True)\n",
        "    va_loss, va_acc = run_epoch(val_loader,   train=False)\n",
        "    print(f\"[Epoch {epoch}]  train_loss={tr_loss:.3f}, train_acc={tr_acc:.3f} | \"\n",
        "          f\"val_loss={va_loss:.3f},   val_acc={va_acc:.3f}\")\n"
      ]
    },
    {
      "cell_type": "code",
      "execution_count": 24,
      "metadata": {
        "trusted": true,
        "colab": {
          "base_uri": "https://localhost:8080/"
        },
        "id": "oC04hAw7F0go",
        "outputId": "74d13b06-fe13-4c68-aaa6-90321cb0fa2b"
      },
      "outputs": [
        {
          "output_type": "stream",
          "name": "stdout",
          "text": [
            "Predicted: lower (98.15%)\n"
          ]
        }
      ],
      "source": [
        "from PIL import Image\n",
        "import torch\n",
        "from torchvision import transforms\n",
        "\n",
        "label_map = {0: \"lower\", 1: \"upper\"}\n",
        "\n",
        "image_path = \"/test4.jpeg\"  # change this to your image path\n",
        "\n",
        "transform = transforms.Compose([\n",
        "    transforms.Resize((224, 224)),\n",
        "    transforms.ToTensor(),\n",
        "    transforms.Normalize(mean=[0.485, 0.456, 0.406],\n",
        "                         std=[0.229, 0.224, 0.225]),\n",
        "])\n",
        "\n",
        "\n",
        "def predict_image(path, model, transform, device):\n",
        "    img = Image.open(path).convert(\"RGB\")\n",
        "    x = transform(img).unsqueeze(0).to(device)\n",
        "    model.eval()\n",
        "    with torch.no_grad():\n",
        "        out = model(x)\n",
        "        probs = torch.softmax(out, dim=1)\n",
        "        pred = probs.argmax(dim=1).item()\n",
        "        conf = probs[0][pred].item()\n",
        "    return label_map[pred], conf\n",
        "\n",
        "pred_label, confidence = predict_image(image_path, model, transform, device)\n",
        "print(f\"Predicted: {pred_label} ({confidence * 100:.2f}%)\")\n"
      ]
    },
    {
      "cell_type": "code",
      "source": [
        "!pip install ultralytics"
      ],
      "metadata": {
        "colab": {
          "base_uri": "https://localhost:8080/"
        },
        "id": "A14jayHjUhTV",
        "outputId": "4b14fd00-693b-43e4-c85c-e70f0abe51dd"
      },
      "execution_count": 26,
      "outputs": [
        {
          "output_type": "stream",
          "name": "stdout",
          "text": [
            "Collecting ultralytics\n",
            "  Downloading ultralytics-8.3.121-py3-none-any.whl.metadata (37 kB)\n",
            "Requirement already satisfied: numpy>=1.23.0 in /usr/local/lib/python3.11/dist-packages (from ultralytics) (2.0.2)\n",
            "Requirement already satisfied: matplotlib>=3.3.0 in /usr/local/lib/python3.11/dist-packages (from ultralytics) (3.10.0)\n",
            "Requirement already satisfied: opencv-python>=4.6.0 in /usr/local/lib/python3.11/dist-packages (from ultralytics) (4.11.0.86)\n",
            "Requirement already satisfied: pillow>=7.1.2 in /usr/local/lib/python3.11/dist-packages (from ultralytics) (11.2.1)\n",
            "Requirement already satisfied: pyyaml>=5.3.1 in /usr/local/lib/python3.11/dist-packages (from ultralytics) (6.0.2)\n",
            "Requirement already satisfied: requests>=2.23.0 in /usr/local/lib/python3.11/dist-packages (from ultralytics) (2.32.3)\n",
            "Requirement already satisfied: scipy>=1.4.1 in /usr/local/lib/python3.11/dist-packages (from ultralytics) (1.15.2)\n",
            "Requirement already satisfied: torch>=1.8.0 in /usr/local/lib/python3.11/dist-packages (from ultralytics) (2.6.0+cu124)\n",
            "Requirement already satisfied: torchvision>=0.9.0 in /usr/local/lib/python3.11/dist-packages (from ultralytics) (0.21.0+cu124)\n",
            "Requirement already satisfied: tqdm>=4.64.0 in /usr/local/lib/python3.11/dist-packages (from ultralytics) (4.67.1)\n",
            "Requirement already satisfied: psutil in /usr/local/lib/python3.11/dist-packages (from ultralytics) (5.9.5)\n",
            "Requirement already satisfied: py-cpuinfo in /usr/local/lib/python3.11/dist-packages (from ultralytics) (9.0.0)\n",
            "Requirement already satisfied: pandas>=1.1.4 in /usr/local/lib/python3.11/dist-packages (from ultralytics) (2.2.2)\n",
            "Requirement already satisfied: seaborn>=0.11.0 in /usr/local/lib/python3.11/dist-packages (from ultralytics) (0.13.2)\n",
            "Collecting ultralytics-thop>=2.0.0 (from ultralytics)\n",
            "  Downloading ultralytics_thop-2.0.14-py3-none-any.whl.metadata (9.4 kB)\n",
            "Requirement already satisfied: contourpy>=1.0.1 in /usr/local/lib/python3.11/dist-packages (from matplotlib>=3.3.0->ultralytics) (1.3.2)\n",
            "Requirement already satisfied: cycler>=0.10 in /usr/local/lib/python3.11/dist-packages (from matplotlib>=3.3.0->ultralytics) (0.12.1)\n",
            "Requirement already satisfied: fonttools>=4.22.0 in /usr/local/lib/python3.11/dist-packages (from matplotlib>=3.3.0->ultralytics) (4.57.0)\n",
            "Requirement already satisfied: kiwisolver>=1.3.1 in /usr/local/lib/python3.11/dist-packages (from matplotlib>=3.3.0->ultralytics) (1.4.8)\n",
            "Requirement already satisfied: packaging>=20.0 in /usr/local/lib/python3.11/dist-packages (from matplotlib>=3.3.0->ultralytics) (24.2)\n",
            "Requirement already satisfied: pyparsing>=2.3.1 in /usr/local/lib/python3.11/dist-packages (from matplotlib>=3.3.0->ultralytics) (3.2.3)\n",
            "Requirement already satisfied: python-dateutil>=2.7 in /usr/local/lib/python3.11/dist-packages (from matplotlib>=3.3.0->ultralytics) (2.9.0.post0)\n",
            "Requirement already satisfied: pytz>=2020.1 in /usr/local/lib/python3.11/dist-packages (from pandas>=1.1.4->ultralytics) (2025.2)\n",
            "Requirement already satisfied: tzdata>=2022.7 in /usr/local/lib/python3.11/dist-packages (from pandas>=1.1.4->ultralytics) (2025.2)\n",
            "Requirement already satisfied: charset-normalizer<4,>=2 in /usr/local/lib/python3.11/dist-packages (from requests>=2.23.0->ultralytics) (3.4.1)\n",
            "Requirement already satisfied: idna<4,>=2.5 in /usr/local/lib/python3.11/dist-packages (from requests>=2.23.0->ultralytics) (3.10)\n",
            "Requirement already satisfied: urllib3<3,>=1.21.1 in /usr/local/lib/python3.11/dist-packages (from requests>=2.23.0->ultralytics) (2.4.0)\n",
            "Requirement already satisfied: certifi>=2017.4.17 in /usr/local/lib/python3.11/dist-packages (from requests>=2.23.0->ultralytics) (2025.1.31)\n",
            "Requirement already satisfied: filelock in /usr/local/lib/python3.11/dist-packages (from torch>=1.8.0->ultralytics) (3.18.0)\n",
            "Requirement already satisfied: typing-extensions>=4.10.0 in /usr/local/lib/python3.11/dist-packages (from torch>=1.8.0->ultralytics) (4.13.2)\n",
            "Requirement already satisfied: networkx in /usr/local/lib/python3.11/dist-packages (from torch>=1.8.0->ultralytics) (3.4.2)\n",
            "Requirement already satisfied: jinja2 in /usr/local/lib/python3.11/dist-packages (from torch>=1.8.0->ultralytics) (3.1.6)\n",
            "Requirement already satisfied: fsspec in /usr/local/lib/python3.11/dist-packages (from torch>=1.8.0->ultralytics) (2025.3.2)\n",
            "Collecting nvidia-cuda-nvrtc-cu12==12.4.127 (from torch>=1.8.0->ultralytics)\n",
            "  Downloading nvidia_cuda_nvrtc_cu12-12.4.127-py3-none-manylinux2014_x86_64.whl.metadata (1.5 kB)\n",
            "Collecting nvidia-cuda-runtime-cu12==12.4.127 (from torch>=1.8.0->ultralytics)\n",
            "  Downloading nvidia_cuda_runtime_cu12-12.4.127-py3-none-manylinux2014_x86_64.whl.metadata (1.5 kB)\n",
            "Collecting nvidia-cuda-cupti-cu12==12.4.127 (from torch>=1.8.0->ultralytics)\n",
            "  Downloading nvidia_cuda_cupti_cu12-12.4.127-py3-none-manylinux2014_x86_64.whl.metadata (1.6 kB)\n",
            "Collecting nvidia-cudnn-cu12==9.1.0.70 (from torch>=1.8.0->ultralytics)\n",
            "  Downloading nvidia_cudnn_cu12-9.1.0.70-py3-none-manylinux2014_x86_64.whl.metadata (1.6 kB)\n",
            "Collecting nvidia-cublas-cu12==12.4.5.8 (from torch>=1.8.0->ultralytics)\n",
            "  Downloading nvidia_cublas_cu12-12.4.5.8-py3-none-manylinux2014_x86_64.whl.metadata (1.5 kB)\n",
            "Collecting nvidia-cufft-cu12==11.2.1.3 (from torch>=1.8.0->ultralytics)\n",
            "  Downloading nvidia_cufft_cu12-11.2.1.3-py3-none-manylinux2014_x86_64.whl.metadata (1.5 kB)\n",
            "Collecting nvidia-curand-cu12==10.3.5.147 (from torch>=1.8.0->ultralytics)\n",
            "  Downloading nvidia_curand_cu12-10.3.5.147-py3-none-manylinux2014_x86_64.whl.metadata (1.5 kB)\n",
            "Collecting nvidia-cusolver-cu12==11.6.1.9 (from torch>=1.8.0->ultralytics)\n",
            "  Downloading nvidia_cusolver_cu12-11.6.1.9-py3-none-manylinux2014_x86_64.whl.metadata (1.6 kB)\n",
            "Collecting nvidia-cusparse-cu12==12.3.1.170 (from torch>=1.8.0->ultralytics)\n",
            "  Downloading nvidia_cusparse_cu12-12.3.1.170-py3-none-manylinux2014_x86_64.whl.metadata (1.6 kB)\n",
            "Requirement already satisfied: nvidia-cusparselt-cu12==0.6.2 in /usr/local/lib/python3.11/dist-packages (from torch>=1.8.0->ultralytics) (0.6.2)\n",
            "Requirement already satisfied: nvidia-nccl-cu12==2.21.5 in /usr/local/lib/python3.11/dist-packages (from torch>=1.8.0->ultralytics) (2.21.5)\n",
            "Requirement already satisfied: nvidia-nvtx-cu12==12.4.127 in /usr/local/lib/python3.11/dist-packages (from torch>=1.8.0->ultralytics) (12.4.127)\n",
            "Collecting nvidia-nvjitlink-cu12==12.4.127 (from torch>=1.8.0->ultralytics)\n",
            "  Downloading nvidia_nvjitlink_cu12-12.4.127-py3-none-manylinux2014_x86_64.whl.metadata (1.5 kB)\n",
            "Requirement already satisfied: triton==3.2.0 in /usr/local/lib/python3.11/dist-packages (from torch>=1.8.0->ultralytics) (3.2.0)\n",
            "Requirement already satisfied: sympy==1.13.1 in /usr/local/lib/python3.11/dist-packages (from torch>=1.8.0->ultralytics) (1.13.1)\n",
            "Requirement already satisfied: mpmath<1.4,>=1.1.0 in /usr/local/lib/python3.11/dist-packages (from sympy==1.13.1->torch>=1.8.0->ultralytics) (1.3.0)\n",
            "Requirement already satisfied: six>=1.5 in /usr/local/lib/python3.11/dist-packages (from python-dateutil>=2.7->matplotlib>=3.3.0->ultralytics) (1.17.0)\n",
            "Requirement already satisfied: MarkupSafe>=2.0 in /usr/local/lib/python3.11/dist-packages (from jinja2->torch>=1.8.0->ultralytics) (3.0.2)\n",
            "Downloading ultralytics-8.3.121-py3-none-any.whl (1.0 MB)\n",
            "\u001b[2K   \u001b[90m━━━━━━━━━━━━━━━━━━━━━━━━━━━━━━━━━━━━━━━━\u001b[0m \u001b[32m1.0/1.0 MB\u001b[0m \u001b[31m30.6 MB/s\u001b[0m eta \u001b[36m0:00:00\u001b[0m\n",
            "\u001b[?25hDownloading nvidia_cublas_cu12-12.4.5.8-py3-none-manylinux2014_x86_64.whl (363.4 MB)\n",
            "\u001b[2K   \u001b[90m━━━━━━━━━━━━━━━━━━━━━━━━━━━━━━━━━━━━━━━━\u001b[0m \u001b[32m363.4/363.4 MB\u001b[0m \u001b[31m1.4 MB/s\u001b[0m eta \u001b[36m0:00:00\u001b[0m\n",
            "\u001b[?25hDownloading nvidia_cuda_cupti_cu12-12.4.127-py3-none-manylinux2014_x86_64.whl (13.8 MB)\n",
            "\u001b[2K   \u001b[90m━━━━━━━━━━━━━━━━━━━━━━━━━━━━━━━━━━━━━━━━\u001b[0m \u001b[32m13.8/13.8 MB\u001b[0m \u001b[31m28.7 MB/s\u001b[0m eta \u001b[36m0:00:00\u001b[0m\n",
            "\u001b[?25hDownloading nvidia_cuda_nvrtc_cu12-12.4.127-py3-none-manylinux2014_x86_64.whl (24.6 MB)\n",
            "\u001b[2K   \u001b[90m━━━━━━━━━━━━━━━━━━━━━━━━━━━━━━━━━━━━━━━━\u001b[0m \u001b[32m24.6/24.6 MB\u001b[0m \u001b[31m18.6 MB/s\u001b[0m eta \u001b[36m0:00:00\u001b[0m\n",
            "\u001b[?25hDownloading nvidia_cuda_runtime_cu12-12.4.127-py3-none-manylinux2014_x86_64.whl (883 kB)\n",
            "\u001b[2K   \u001b[90m━━━━━━━━━━━━━━━━━━━━━━━━━━━━━━━━━━━━━━━━\u001b[0m \u001b[32m883.7/883.7 kB\u001b[0m \u001b[31m17.0 MB/s\u001b[0m eta \u001b[36m0:00:00\u001b[0m\n",
            "\u001b[?25hDownloading nvidia_cudnn_cu12-9.1.0.70-py3-none-manylinux2014_x86_64.whl (664.8 MB)\n",
            "\u001b[2K   \u001b[90m━━━━━━━━━━━━━━━━━━━━━━━━━━━━━━━━━━━━━━━━\u001b[0m \u001b[32m664.8/664.8 MB\u001b[0m \u001b[31m2.8 MB/s\u001b[0m eta \u001b[36m0:00:00\u001b[0m\n",
            "\u001b[?25hDownloading nvidia_cufft_cu12-11.2.1.3-py3-none-manylinux2014_x86_64.whl (211.5 MB)\n",
            "\u001b[2K   \u001b[90m━━━━━━━━━━━━━━━━━━━━━━━━━━━━━━━━━━━━━━━━\u001b[0m \u001b[32m211.5/211.5 MB\u001b[0m \u001b[31m6.0 MB/s\u001b[0m eta \u001b[36m0:00:00\u001b[0m\n",
            "\u001b[?25hDownloading nvidia_curand_cu12-10.3.5.147-py3-none-manylinux2014_x86_64.whl (56.3 MB)\n",
            "\u001b[2K   \u001b[90m━━━━━━━━━━━━━━━━━━━━━━━━━━━━━━━━━━━━━━━━\u001b[0m \u001b[32m56.3/56.3 MB\u001b[0m \u001b[31m12.3 MB/s\u001b[0m eta \u001b[36m0:00:00\u001b[0m\n",
            "\u001b[?25hDownloading nvidia_cusolver_cu12-11.6.1.9-py3-none-manylinux2014_x86_64.whl (127.9 MB)\n",
            "\u001b[2K   \u001b[90m━━━━━━━━━━━━━━━━━━━━━━━━━━━━━━━━━━━━━━━━\u001b[0m \u001b[32m127.9/127.9 MB\u001b[0m \u001b[31m9.7 MB/s\u001b[0m eta \u001b[36m0:00:00\u001b[0m\n",
            "\u001b[?25hDownloading nvidia_cusparse_cu12-12.3.1.170-py3-none-manylinux2014_x86_64.whl (207.5 MB)\n",
            "\u001b[2K   \u001b[90m━━━━━━━━━━━━━━━━━━━━━━━━━━━━━━━━━━━━━━━━\u001b[0m \u001b[32m207.5/207.5 MB\u001b[0m \u001b[31m6.3 MB/s\u001b[0m eta \u001b[36m0:00:00\u001b[0m\n",
            "\u001b[?25hDownloading nvidia_nvjitlink_cu12-12.4.127-py3-none-manylinux2014_x86_64.whl (21.1 MB)\n",
            "\u001b[2K   \u001b[90m━━━━━━━━━━━━━━━━━━━━━━━━━━━━━━━━━━━━━━━━\u001b[0m \u001b[32m21.1/21.1 MB\u001b[0m \u001b[31m18.4 MB/s\u001b[0m eta \u001b[36m0:00:00\u001b[0m\n",
            "\u001b[?25hDownloading ultralytics_thop-2.0.14-py3-none-any.whl (26 kB)\n",
            "Installing collected packages: nvidia-nvjitlink-cu12, nvidia-curand-cu12, nvidia-cufft-cu12, nvidia-cuda-runtime-cu12, nvidia-cuda-nvrtc-cu12, nvidia-cuda-cupti-cu12, nvidia-cublas-cu12, nvidia-cusparse-cu12, nvidia-cudnn-cu12, nvidia-cusolver-cu12, ultralytics-thop, ultralytics\n",
            "  Attempting uninstall: nvidia-nvjitlink-cu12\n",
            "    Found existing installation: nvidia-nvjitlink-cu12 12.5.82\n",
            "    Uninstalling nvidia-nvjitlink-cu12-12.5.82:\n",
            "      Successfully uninstalled nvidia-nvjitlink-cu12-12.5.82\n",
            "  Attempting uninstall: nvidia-curand-cu12\n",
            "    Found existing installation: nvidia-curand-cu12 10.3.6.82\n",
            "    Uninstalling nvidia-curand-cu12-10.3.6.82:\n",
            "      Successfully uninstalled nvidia-curand-cu12-10.3.6.82\n",
            "  Attempting uninstall: nvidia-cufft-cu12\n",
            "    Found existing installation: nvidia-cufft-cu12 11.2.3.61\n",
            "    Uninstalling nvidia-cufft-cu12-11.2.3.61:\n",
            "      Successfully uninstalled nvidia-cufft-cu12-11.2.3.61\n",
            "  Attempting uninstall: nvidia-cuda-runtime-cu12\n",
            "    Found existing installation: nvidia-cuda-runtime-cu12 12.5.82\n",
            "    Uninstalling nvidia-cuda-runtime-cu12-12.5.82:\n",
            "      Successfully uninstalled nvidia-cuda-runtime-cu12-12.5.82\n",
            "  Attempting uninstall: nvidia-cuda-nvrtc-cu12\n",
            "    Found existing installation: nvidia-cuda-nvrtc-cu12 12.5.82\n",
            "    Uninstalling nvidia-cuda-nvrtc-cu12-12.5.82:\n",
            "      Successfully uninstalled nvidia-cuda-nvrtc-cu12-12.5.82\n",
            "  Attempting uninstall: nvidia-cuda-cupti-cu12\n",
            "    Found existing installation: nvidia-cuda-cupti-cu12 12.5.82\n",
            "    Uninstalling nvidia-cuda-cupti-cu12-12.5.82:\n",
            "      Successfully uninstalled nvidia-cuda-cupti-cu12-12.5.82\n",
            "  Attempting uninstall: nvidia-cublas-cu12\n",
            "    Found existing installation: nvidia-cublas-cu12 12.5.3.2\n",
            "    Uninstalling nvidia-cublas-cu12-12.5.3.2:\n",
            "      Successfully uninstalled nvidia-cublas-cu12-12.5.3.2\n",
            "  Attempting uninstall: nvidia-cusparse-cu12\n",
            "    Found existing installation: nvidia-cusparse-cu12 12.5.1.3\n",
            "    Uninstalling nvidia-cusparse-cu12-12.5.1.3:\n",
            "      Successfully uninstalled nvidia-cusparse-cu12-12.5.1.3\n",
            "  Attempting uninstall: nvidia-cudnn-cu12\n",
            "    Found existing installation: nvidia-cudnn-cu12 9.3.0.75\n",
            "    Uninstalling nvidia-cudnn-cu12-9.3.0.75:\n",
            "      Successfully uninstalled nvidia-cudnn-cu12-9.3.0.75\n",
            "  Attempting uninstall: nvidia-cusolver-cu12\n",
            "    Found existing installation: nvidia-cusolver-cu12 11.6.3.83\n",
            "    Uninstalling nvidia-cusolver-cu12-11.6.3.83:\n",
            "      Successfully uninstalled nvidia-cusolver-cu12-11.6.3.83\n",
            "Successfully installed nvidia-cublas-cu12-12.4.5.8 nvidia-cuda-cupti-cu12-12.4.127 nvidia-cuda-nvrtc-cu12-12.4.127 nvidia-cuda-runtime-cu12-12.4.127 nvidia-cudnn-cu12-9.1.0.70 nvidia-cufft-cu12-11.2.1.3 nvidia-curand-cu12-10.3.5.147 nvidia-cusolver-cu12-11.6.1.9 nvidia-cusparse-cu12-12.3.1.170 nvidia-nvjitlink-cu12-12.4.127 ultralytics-8.3.121 ultralytics-thop-2.0.14\n"
          ]
        }
      ]
    },
    {
      "cell_type": "code",
      "source": [
        "from PIL import Image, ImageDraw, ImageFont\n",
        "import matplotlib.pyplot as plt\n",
        "import torch\n",
        "from torchvision import transforms\n",
        "\n",
        "# 1. Label map\n",
        "label_map = {0: \"lower\", 1: \"upper\"}\n",
        "\n",
        "# 2. Image path\n",
        "image_path = \"/test6.webp\"  # change this\n",
        "\n",
        "# 3. Preprocessing (must match your training setup)\n",
        "transform = transforms.Compose([\n",
        "    transforms.Resize((224, 224)),\n",
        "    transforms.ToTensor(),\n",
        "    transforms.Normalize(mean=[0.485, 0.456, 0.406],\n",
        "                         std=[0.229, 0.224, 0.225]),\n",
        "])\n",
        "\n",
        "# 4. Prediction + visualization\n",
        "def predict_and_show(path, model, transform, device):\n",
        "    img = Image.open(image_path).convert(\"RGB\")\n",
        "    vis_img = img.copy().resize((224, 224))  # for drawing\n",
        "\n",
        "    # Preprocess\n",
        "    x = transform(img).unsqueeze(0).to(device)\n",
        "    model.eval()\n",
        "    with torch.no_grad():\n",
        "        out = model(x)\n",
        "        probs = torch.softmax(out, dim=1)\n",
        "        pred = probs.argmax(dim=1).item()\n",
        "        conf = probs[0][pred].item()\n",
        "\n",
        "    # Draw box and label\n",
        "    draw = ImageDraw.Draw(vis_img)\n",
        "    draw.rectangle([5, 5, 219, 219], outline=\"green\", width=2)\n",
        "    label_text = f\"{label_map[pred]} ({conf*100:.1f}%)\"\n",
        "    draw.text((10, 10), label_text, fill=\"green\")\n",
        "\n",
        "    # Show\n",
        "    plt.figure(figsize=(4, 4))\n",
        "    plt.imshow(vis_img)\n",
        "    plt.axis(\"off\")\n",
        "    plt.title(\"Prediction\")\n",
        "    plt.show()\n",
        "\n",
        "# Run it\n",
        "predict_and_show(image_path, model, transform, device)"
      ],
      "metadata": {
        "colab": {
          "base_uri": "https://localhost:8080/",
          "height": 367
        },
        "id": "j2_vsfiVXBzq",
        "outputId": "8dad6d7d-7a89-4b7e-e139-4fb80a7c10e3"
      },
      "execution_count": 44,
      "outputs": [
        {
          "output_type": "display_data",
          "data": {
            "text/plain": [
              "<Figure size 400x400 with 1 Axes>"
            ],
            "image/png": "[encoded data removed]"
          },
          "metadata": {}
        }
      ]
    },
    {
      "cell_type": "code",
      "source": [],
      "metadata": {
        "id": "-FGhKuYKXKqP"
      },
      "execution_count": null,
      "outputs": []
    }
  ],
  "metadata": {
    "kaggle": {
      "accelerator": "none",
      "dataSources": [
        {
          "datasetId": 1806401,
          "sourceId": 2953147,
          "sourceType": "datasetVersion"
        }
      ],
      "dockerImageVersionId": 31012,
      "isGpuEnabled": false,
      "isInternetEnabled": false,
      "language": "python",
      "sourceType": "notebook"
    },
    "kernelspec": {
      "display_name": "Python 3",
      "name": "python3"
    },
    "language_info": {
      "codemirror_mode": {
        "name": "ipython",
        "version": 3
      },
      "file_extension": ".py",
      "mimetype": "text/x-python",
      "name": "python",
      "nbconvert_exporter": "python",
      "pygments_lexer": "ipython3",
      "version": "3.12.4"
    },
    "colab": {
      "provenance": [],
      "gpuType": "T4"
    },
    "accelerator": "GPU"
  },
  "nbformat": 4,
  "nbformat_minor": 0
}